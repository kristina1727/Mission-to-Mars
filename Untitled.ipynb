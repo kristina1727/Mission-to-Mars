{
 "cells": [
  {
   "cell_type": "code",
   "execution_count": null,
   "id": "7ae55398",
   "metadata": {},
   "outputs": [],
   "source": [
    "# 2. Create a list to hold the images and titles.\n",
    "hemisphere_image_urls = []\n",
    "# 3. Write code to retrieve the image urls and titles for each hemisphere.\n",
    "# First, get a list of all of the hemispheres\n",
    "links = browser.find_by_css('a.product-item img')\n",
    "links\n",
    "# Next, loop through those links, click the link, find the sample anchor, return the href\n",
    "for i in range(len(links)):\n",
    "   hemisphere = {}\n",
    "   # We have to find the elements on each loop to avoid a stale element exception\n",
    "   browser.find_by_css('a.product-item img')[i].click()\n",
    "   # Next, we find the Sample image anchor tag and extract the href\n",
    "   sample_elem = browser.links.find_by_text('Sample').first\n",
    "   hemisphere['img_url'] = sample_elem['href']\n",
    "   # Get Hemisphere title\n",
    "   hemisphere['title'] = browser.find_by_css('h2.title').text\n",
    "   # Append hemisphere object to list\n",
    "   hemisphere_image_urls.append(hemisphere)\n",
    "   # Finally, we navigate backwards\n",
    "   browser.back()"
   ]
  }
 ],
 "metadata": {
  "kernelspec": {
   "display_name": "Python 3",
   "language": "python",
   "name": "python3"
  },
  "language_info": {
   "codemirror_mode": {
    "name": "ipython",
    "version": 3
   },
   "file_extension": ".py",
   "mimetype": "text/x-python",
   "name": "python",
   "nbconvert_exporter": "python",
   "pygments_lexer": "ipython3",
   "version": "3.7.10"
  }
 },
 "nbformat": 4,
 "nbformat_minor": 5
}
